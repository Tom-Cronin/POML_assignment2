{
 "cells": [
  {
   "cell_type": "markdown",
   "source": [
    "### TODO: DELETE THIS - ITS SOME BASIC INFORMATION AS A REFERENCE\n",
    "\n",
    "## Definition of the perceptron\n",
    "The perceptron is a linear-model binary classifier with a simple input—output relationship as depicted in Figure 2-3, which shows we're summing n number of inputs times their associated weights and then sending this \"net input\" to a step function with a defined threshold. Typically with perceptrons, this is a Heaviside step function with a threshold value of 0.5. This function will output a real-valued single binary value (0 or a 1), depending on the input.\n",
    "\n",
    "![perceptron](assets/perceptronFig.png?raw=true)\n",
    "\n",
    "We can model the decision boundary and the classification output in the Heaviside\n",
    "step function equation, as follows:\n",
    "\n",
    "![f of x](assets/fx.png)\n",
    "\n",
    "To produce the net input to the activation function (here, the Heaviside step function) we take the dot product of the input and the connection weights. We see this\n",
    "summation in the left half of Figure 2-3 as the input to the summation function.\n",
    "Table 2-1 provides an explanation of how the summation function is performed as\n",
    "well as notes about the parameters involved in the summation function.\n",
    "\n",
    "\n",
    "![params](assets/params.png)\n",
    "\n",
    "The output of the step function (activation function) is the output for the perceptron and gives us a classification of the input values. If the bias value is negative, it forces the learned weights sum to be a much greater value to get a 1 classification output. The bias term in this capacity moves the decision boundary around for the model. Input values do not affect the bias term, but the bias term is learned through the perceptron learning algorithm.\n",
    "\n",
    "## The perceptron learning algorithm\n",
    "The perceptron learning algorithm changes the weights in the perceptron model until all input records are all correctly classified. The algorithm will not terminate if the learning input is not linearly separable. A linearly separable dataset is one for which we can find the values of a hyperplane that will cleanly divide the two classes of the dataset.\n",
    "\n",
    "The perceptron learning algorithm initializes the weight vector with small random values or 0.0s at the beginning of training. The perceptron learning algorithm takes each input record, as we can see in Figure 2-3, and computes the output classification to check against the actual classification label. To produce the classification, the columns (features) are matched up to weights where n is the number of dimensions in both our input and weights. The first input value is the bias input, which is always 1.0 because we don't affect the bias input. The first weight is our bias term in this diagram. The dot product of the input vector and the weight vector gives us the input to our activation function, as we've previously discussed.\n",
    "\n",
    "If the classification is correct, no weight changes are made. If the classification is incorrect, the weights are adjusted accordingly. Weights are updated between individual training examples in an \"online learning\" fashion. This loop continues until all of the input examples are correctly classified. If the dataset is not linearly separable, the training algorithm will not terminate. Figure 2-4 demonstrates a dataset that is not linearly separable, the XOR logic function.\n",
    "\n",
    "![xor](assets/xor.png)"
   ],
   "metadata": {
    "collapsed": false
   }
  },
  {
   "cell_type": "code",
   "execution_count": null,
   "outputs": [],
   "source": [],
   "metadata": {
    "collapsed": false
   }
  }
 ],
 "metadata": {
  "kernelspec": {
   "display_name": "Python 3",
   "language": "python",
   "name": "python3"
  },
  "language_info": {
   "codemirror_mode": {
    "name": "ipython",
    "version": 2
   },
   "file_extension": ".py",
   "mimetype": "text/x-python",
   "name": "python",
   "nbconvert_exporter": "python",
   "pygments_lexer": "ipython2",
   "version": "2.7.6"
  }
 },
 "nbformat": 4,
 "nbformat_minor": 0
}
