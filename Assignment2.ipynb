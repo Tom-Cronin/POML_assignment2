{
 "cells": [
  {
   "cell_type": "markdown",
   "metadata": {},
   "source": [
    "# CT5170: Principles of ML - Assignment 2\n",
    "## Course code: 1MAO3\n",
    "### Participants (name: id): (Daniel Verdejo: 22240224, Thomas Cronin: 22239435)\n"
   ]
  },
  {
   "cell_type": "code",
   "execution_count": 228,
   "metadata": {
    "collapsed": true
   },
   "outputs": [],
   "source": [
    "import pandas as pd\n",
    "import numpy as np\n",
    "from seaborn import lmplot, stripplot\n",
    "import matplotlib.pyplot as plt\n",
    "\n",
    "import doctest\n"
   ]
  },
  {
   "cell_type": "markdown",
   "source": [
    "# Helper Functions"
   ],
   "metadata": {
    "collapsed": false
   }
  },
  {
   "cell_type": "code",
   "execution_count": 229,
   "metadata": {
    "collapsed": false,
    "pycharm": {
     "name": "#%%\n"
    }
   },
   "outputs": [],
   "source": [
    "# TODO: Potentially remove this if we don't actually need it\n",
    "# Entropy calculation - need to figure out whats really required to check what causes a fire or not\n",
    "# Presuming the date isn't really all that important, I believe the attributes of interest are:\n",
    "# temp, humidity, rainfall, drought_code, buildup_index, wind_speed\n",
    "# For each outcome, (yes / no in this case) sum all of the positive and negative cases to the first algorithm above \n",
    "# page 139 - ref: https://drive.google.com/drive/folders/1U6F01iWnnSTrJQzviE02ST8WMc8UdOML\n",
    "\n",
    "def entropy(y):\n",
    "    \"\"\" Entropy - for a set of data summate all positive cases, and negative cases:\n",
    "        for each case calculate p * log2 p (log base 2) if p is a non negative number\n",
    "\n",
    "        Should return 1.0 if there label distribution is equal\n",
    "        >>> round(entropy(np.array([1,1,1,1,0,0,0,0])),3)\n",
    "        1.0\n",
    "\n",
    "        Should return 0.0 if the labels are one sided negatively\n",
    "        >>> Y = np.array([0,0,0,0,0,0,0,0,0])\n",
    "        >>> round(entropy(Y),3)\n",
    "        -0.0\n",
    "        \n",
    "        Should return 0.0 if the labels are one sided positively\n",
    "        >>> Y = np.array([1,1,1,1,1])\n",
    "        >>> round(entropy(Y),3)\n",
    "        -0.0\n",
    "\n",
    "        Should return a value close to 1.0 if the labels are almost equal\n",
    "        >>> Y = np.array([1, 0, 0, 0, 1, 1, 0 ,1 ,0, 0, 1, 0, 1])\n",
    "        >>> round(entropy(Y), 3)\n",
    "        0.996\n",
    "\n",
    "        Should return a float closer to 0.0 if the labels are very unbalanced\n",
    "        >>> Y = np.array([1,1,1,1,1,1,0,1,1,1,1,1,1,1,1,1,1,1,1,1])\n",
    "        >>> round(entropy(Y),3)\n",
    "        0.286\n",
    "    \"\"\"\n",
    "    P = np.bincount(y) / len(y) # number of unique outputs / all possible outputs\n",
    "    return - np.sum([p * np.log2(p) for p in P if p > 0])\n"
   ]
  },
  {
   "cell_type": "code",
   "execution_count": 230,
   "metadata": {
    "collapsed": false,
    "pycharm": {
     "name": "#%%\n"
    }
   },
   "outputs": [
    {
     "name": "stdout",
     "output_type": "stream",
     "text": [
      "Finding tests in NoName\n",
      "Trying:\n",
      "    round(entropy(np.array([1,1,1,1,0,0,0,0])),3)\n",
      "Expecting:\n",
      "    1.0\n",
      "ok\n",
      "Trying:\n",
      "    Y = np.array([0,0,0,0,0,0,0,0,0])\n",
      "Expecting nothing\n",
      "ok\n",
      "Trying:\n",
      "    round(entropy(Y),3)\n",
      "Expecting:\n",
      "    -0.0\n",
      "ok\n",
      "Trying:\n",
      "    Y = np.array([1,1,1,1,1])\n",
      "Expecting nothing\n",
      "ok\n",
      "Trying:\n",
      "    round(entropy(Y),3)\n",
      "Expecting:\n",
      "    -0.0\n",
      "ok\n",
      "Trying:\n",
      "    Y = np.array([1, 0, 0, 0, 1, 1, 0 ,1 ,0, 0, 1, 0, 1])\n",
      "Expecting nothing\n",
      "ok\n",
      "Trying:\n",
      "    round(entropy(Y), 3)\n",
      "Expecting:\n",
      "    0.996\n",
      "ok\n",
      "Trying:\n",
      "    Y = np.array([1,1,1,1,1,1,0,1,1,1,1,1,1,1,1,1,1,1,1,1])\n",
      "Expecting nothing\n",
      "ok\n",
      "Trying:\n",
      "    round(entropy(Y),3)\n",
      "Expecting:\n",
      "    0.286\n",
      "ok\n"
     ]
    }
   ],
   "source": [
    "doctest.run_docstring_examples(entropy, globals(), verbose=True, optionflags=doctest.NORMALIZE_WHITESPACE)"
   ]
  },
  {
   "cell_type": "code",
   "execution_count": 231,
   "metadata": {
    "collapsed": false
   },
   "outputs": [],
   "source": [
    "# Tom Cronin\n",
    "def read_data_return_dataframe(PathToFile):\n",
    "    \"\"\"\n",
    "    Reads data from a specified text file. Requires the path to the text file\n",
    "\n",
    "    Should return a dataframe of the test file\n",
    "    >>> type(read_data_return_dataframe('testdata.txt'))\n",
    "    <class 'pandas.core.frame.DataFrame'>\n",
    "\n",
    "     Should have correct data in the dataframe.\n",
    "     There should be 20 entrys in the dataframe excluding of the column names\n",
    "    >>> read_data_return_dataframe('testdata.txt').size\n",
    "    20\n",
    "    \"\"\"\n",
    "    return pd.read_table(PathToFile) # reads txt file and converts it to a pandas dataframe"
   ]
  },
  {
   "cell_type": "code",
   "execution_count": 232,
   "metadata": {
    "collapsed": false,
    "pycharm": {
     "name": "#%%\n"
    }
   },
   "outputs": [
    {
     "name": "stdout",
     "output_type": "stream",
     "text": [
      "Finding tests in NoName\n",
      "Trying:\n",
      "    type(read_data_return_dataframe('testdata.txt'))\n",
      "Expecting:\n",
      "    <class 'pandas.core.frame.DataFrame'>\n",
      "ok\n",
      "Trying:\n",
      "    read_data_return_dataframe('testdata.txt').size\n",
      "Expecting:\n",
      "    20\n",
      "ok\n"
     ]
    }
   ],
   "source": [
    "doctest.run_docstring_examples(read_data_return_dataframe, globals(), verbose=True, optionflags=doctest.NORMALIZE_WHITESPACE)"
   ]
  },
  {
   "cell_type": "code",
   "execution_count": 233,
   "metadata": {},
   "outputs": [],
   "source": [
    "# Daniel Verdejo - split into labels and attributes\n",
    "def split_df_labels_attributes(df):\n",
    "    \"\"\" Split the dataframe into two by labels and attributes\n",
    "\n",
    "        Keyword arguments:\n",
    "        df -- A pandas dataframe type containing labels and attributes\n",
    "        label_col_name -- A string which contains the name of the label column. \n",
    "\n",
    "        Returns:\n",
    "        tuple -- (label: pd.DataFrame, attributes: pd.DataFrame)\n",
    "\n",
    "        Should output only the Label column\n",
    "        >>> labels, attrs = split_df_labels_attributes(read_data_return_dataframe('testdata.txt'))\n",
    "        >>> labels\n",
    "                  Label\n",
    "                0  no   \n",
    "                1  no\n",
    "\n",
    "        Should not contain the Label column\n",
    "        >>> labels, attrs = split_df_labels_attributes(read_data_return_dataframe('testdata-alt.txt'))\n",
    "        >>> 'label' in attrs\n",
    "        False\n",
    "        \n",
    "        >>> attrs.columns\n",
    "        Index(['year', 'temp', 'humidity', 'rainfall', 'drought_code', 'buildup_index',\n",
    "          'day', 'month', 'wind_speed'],\n",
    "        dtype='object')\n",
    "      \"\"\"\n",
    "    return (df.iloc[:,0:1], df.iloc[:,1:])  # (for every row take columns upto index 1 exclusive, for every row take every column from 1 onwards inclusive)"
   ]
  },
  {
   "cell_type": "code",
   "execution_count": 234,
   "metadata": {},
   "outputs": [
    {
     "name": "stdout",
     "output_type": "stream",
     "text": [
      "Finding tests in NoName\n",
      "Trying:\n",
      "    labels, attrs = split_df_labels_attributes(read_data_return_dataframe('testdata.txt'))\n",
      "Expecting nothing\n",
      "ok\n",
      "Trying:\n",
      "    labels\n",
      "Expecting:\n",
      "              Label\n",
      "            0  no   \n",
      "            1  no\n",
      "ok\n",
      "Trying:\n",
      "    labels, attrs = split_df_labels_attributes(read_data_return_dataframe('testdata-alt.txt'))\n",
      "Expecting nothing\n",
      "ok\n",
      "Trying:\n",
      "    'label' in attrs\n",
      "Expecting:\n",
      "    False\n",
      "ok\n",
      "Trying:\n",
      "    attrs.columns\n",
      "Expecting:\n",
      "    Index(['year', 'temp', 'humidity', 'rainfall', 'drought_code', 'buildup_index',\n",
      "      'day', 'month', 'wind_speed'],\n",
      "    dtype='object')\n",
      "ok\n"
     ]
    }
   ],
   "source": [
    "doctest.run_docstring_examples(split_df_labels_attributes, globals(), verbose=True, optionflags=doctest.NORMALIZE_WHITESPACE)"
   ]
  },
  {
   "cell_type": "code",
   "execution_count": 235,
   "metadata": {},
   "outputs": [],
   "source": [
    "# Daniel Verdejo - train, test splilt dataframe\n",
    "def split_df_to_train_test_dfs(df, return_validation=False):\n",
    "    \"\"\" Splits a single dataframe into 2 dataframes\n",
    "    \n",
    "    Arguments:\n",
    "    df -- A pandas Dataframe to be split into 2\n",
    "\n",
    "    Returns:\n",
    "    tuple -- (df_train: pandas.Dataframe, df_test: pandas.Dataframe)\n",
    "    \n",
    "    Should split a single dataframe into 2 unique dataframes\n",
    "    >>> df = read_data_return_dataframe('wildfires.txt')\n",
    "    >>> train, test = split_df_to_train_test_dfs(df)\n",
    "    >>> train.index.equals(tr.index)\n",
    "    False\n",
    "\n",
    "    Length of train and test dataframes should equal the length of the orignal\n",
    "    >>> df = read_data_return_dataframe('wildfires.txt')\n",
    "    >>> train, test = split_df_to_train_test_dfs(df)\n",
    "    >>> len(train) + len(test) == len(df)\n",
    "    True\n",
    "\n",
    "    Should contain different values\n",
    "    >>> df = read_data_return_dataframe('wildfires.txt')\n",
    "    >>> train, test = split_df_to_train_test_dfs(df)\n",
    "    >>> train.values != test.values\n",
    "    True\n",
    "    \"\"\"\n",
    "    train_frac = round(np.random.uniform(.6, .7), 2) # get a random float for our training fraction\n",
    "    df_train = df.sample(frac = train_frac) # randomly sample a fraction of the dataframe between 60 & 70 % of its entirety\n",
    "    return (df_train,  df.drop(df_train.index)) # return the training data and the test data"
   ]
  },
  {
   "cell_type": "code",
   "execution_count": 236,
   "metadata": {},
   "outputs": [
    {
     "name": "stdout",
     "output_type": "stream",
     "text": [
      "Finding tests in NoName\n",
      "Trying:\n",
      "    df = read_data_return_dataframe('wildfires.txt')\n",
      "Expecting nothing\n",
      "ok\n",
      "Trying:\n",
      "    train, test = split_df_to_train_test_dfs(df)\n",
      "Expecting nothing\n",
      "ok\n",
      "Trying:\n",
      "    train.index.equals(tr.index)\n",
      "Expecting:\n",
      "    False\n",
      "**********************************************************************\n",
      "File \"__main__\", line 14, in NoName\n",
      "Failed example:\n",
      "    train.index.equals(tr.index)\n",
      "Exception raised:\n",
      "    Traceback (most recent call last):\n",
      "      File \"/opt/homebrew/Caskroom/miniforge/base/envs/tensorflow/lib/python3.9/doctest.py\", line 1334, in __run\n",
      "        exec(compile(example.source, filename, \"single\",\n",
      "      File \"<doctest NoName[2]>\", line 1, in <module>\n",
      "        train.index.equals(tr.index)\n",
      "    NameError: name 'tr' is not defined\n",
      "Trying:\n",
      "    df = read_data_return_dataframe('wildfires.txt')\n",
      "Expecting nothing\n",
      "ok\n",
      "Trying:\n",
      "    train, test = split_df_to_train_test_dfs(df)\n",
      "Expecting nothing\n",
      "ok\n",
      "Trying:\n",
      "    len(train) + len(test) == len(df)\n",
      "Expecting:\n",
      "    True\n",
      "ok\n",
      "Trying:\n",
      "    df = read_data_return_dataframe('wildfires.txt')\n",
      "Expecting nothing\n",
      "ok\n",
      "Trying:\n",
      "    train, test = split_df_to_train_test_dfs(df)\n",
      "Expecting nothing\n",
      "ok\n",
      "Trying:\n",
      "    train.values != test.values\n",
      "Expecting:\n",
      "    True\n",
      "ok\n"
     ]
    },
    {
     "name": "stderr",
     "output_type": "stream",
     "text": [
      "<doctest NoName[8]>:1: DeprecationWarning: elementwise comparison failed; this will raise an error in the future.\n",
      "  train.values != test.values\n"
     ]
    }
   ],
   "source": [
    "doctest.run_docstring_examples(split_df_to_train_test_dfs, globals(), verbose=True, optionflags=doctest.NORMALIZE_WHITESPACE)"
   ]
  },
  {
   "cell_type": "code",
   "execution_count": 237,
   "metadata": {},
   "outputs": [],
   "source": [
    "def normalise_outputs(Y):\n",
    "    \"\"\" Change the outputs from 'yes' and 'no' to 1s and 0s 1 = yes, 0 = no\n",
    "\n",
    "    Args:\n",
    "    Y -- dataframe containing the labels to convert to numerical\n",
    "\n",
    "    Returns:\n",
    "    integer array\n",
    "\n",
    "    >>> normalise_outputs(read_data_return_dataframe(\"./testdata-alt.txt\"))\n",
    "    [0,0,1,0,1,1]\n",
    "    \"\"\"\n",
    "    return [1 if 'yes' in y else 0 for y in Y['fire']]"
   ]
  },
  {
   "cell_type": "code",
   "execution_count": 238,
   "metadata": {},
   "outputs": [
    {
     "name": "stdout",
     "output_type": "stream",
     "text": [
      "Finding tests in NoName\n",
      "Trying:\n",
      "    normalise_outputs(read_data_return_dataframe(\"./testdata-alt.txt\"))\n",
      "Expecting:\n",
      "    [0,0,1,0,1,1]\n",
      "**********************************************************************\n",
      "File \"__main__\", line 10, in NoName\n",
      "Failed example:\n",
      "    normalise_outputs(read_data_return_dataframe(\"./testdata-alt.txt\"))\n",
      "Exception raised:\n",
      "    Traceback (most recent call last):\n",
      "      File \"/opt/homebrew/Caskroom/miniforge/base/envs/tensorflow/lib/python3.9/site-packages/pandas/core/indexes/base.py\", line 3621, in get_loc\n",
      "        return self._engine.get_loc(casted_key)\n",
      "      File \"pandas/_libs/index.pyx\", line 136, in pandas._libs.index.IndexEngine.get_loc\n",
      "      File \"pandas/_libs/index.pyx\", line 163, in pandas._libs.index.IndexEngine.get_loc\n",
      "      File \"pandas/_libs/hashtable_class_helper.pxi\", line 5198, in pandas._libs.hashtable.PyObjectHashTable.get_item\n",
      "      File \"pandas/_libs/hashtable_class_helper.pxi\", line 5206, in pandas._libs.hashtable.PyObjectHashTable.get_item\n",
      "    KeyError: 'fire'\n",
      "\n",
      "    The above exception was the direct cause of the following exception:\n",
      "\n",
      "    Traceback (most recent call last):\n",
      "      File \"/opt/homebrew/Caskroom/miniforge/base/envs/tensorflow/lib/python3.9/doctest.py\", line 1334, in __run\n",
      "        exec(compile(example.source, filename, \"single\",\n",
      "      File \"<doctest NoName[0]>\", line 1, in <module>\n",
      "        normalise_outputs(read_data_return_dataframe(\"./testdata-alt.txt\"))\n",
      "      File \"/var/folders/gm/837r57kd0m1gf8h_1g5ph7nm0000gn/T/ipykernel_18521/3528053950.py\", line 13, in normalise_outputs\n",
      "        return [1 if 'yes' in y else 0 for y in Y['fire']]\n",
      "      File \"/opt/homebrew/Caskroom/miniforge/base/envs/tensorflow/lib/python3.9/site-packages/pandas/core/frame.py\", line 3505, in __getitem__\n",
      "        indexer = self.columns.get_loc(key)\n",
      "      File \"/opt/homebrew/Caskroom/miniforge/base/envs/tensorflow/lib/python3.9/site-packages/pandas/core/indexes/base.py\", line 3623, in get_loc\n",
      "        raise KeyError(key) from err\n",
      "    KeyError: 'fire'\n"
     ]
    }
   ],
   "source": [
    "doctest.run_docstring_examples(normalise_outputs, globals(), verbose=True, optionflags=doctest.NORMALIZE_WHITESPACE)"
   ]
  },
  {
   "cell_type": "markdown",
   "source": [
    "# Data Exploration"
   ],
   "metadata": {
    "collapsed": false
   }
  },
  {
   "cell_type": "code",
   "execution_count": 239,
   "outputs": [],
   "source": [
    "# Tom Cronin\n",
    "wildfires_df = read_data_return_dataframe(\"wildfires.txt\") # Loads The wildfire Dataset"
   ],
   "metadata": {
    "collapsed": false
   }
  },
  {
   "cell_type": "code",
   "execution_count": 240,
   "outputs": [
    {
     "data": {
      "text/plain": "(204, 10)"
     },
     "execution_count": 240,
     "metadata": {},
     "output_type": "execute_result"
    }
   ],
   "source": [
    "# Tom Cronin\n",
    "wildfires_df.shape # gets the dimensions of the dataframe"
   ],
   "metadata": {
    "collapsed": false
   }
  },
  {
   "cell_type": "code",
   "execution_count": 241,
   "outputs": [
    {
     "data": {
      "text/plain": "Index(['fire', 'year', 'temp', 'humidity', 'rainfall', 'drought_code',\n       'buildup_index', 'day', 'month', 'wind_speed'],\n      dtype='object')"
     },
     "execution_count": 241,
     "metadata": {},
     "output_type": "execute_result"
    }
   ],
   "source": [
    "# Tom Cronin\n",
    "wildfires_df.columns # gets the features of the columns"
   ],
   "metadata": {
    "collapsed": false
   }
  },
  {
   "cell_type": "code",
   "execution_count": 242,
   "outputs": [
    {
     "data": {
      "text/plain": "fire              object\nyear               int64\ntemp               int64\nhumidity           int64\nrainfall         float64\ndrought_code     float64\nbuildup_index    float64\nday                int64\nmonth              int64\nwind_speed         int64\ndtype: object"
     },
     "execution_count": 242,
     "metadata": {},
     "output_type": "execute_result"
    }
   ],
   "source": [
    "# Tom Cronin\n",
    "wildfires_df.dtypes # returns the datatypes"
   ],
   "metadata": {
    "collapsed": false
   }
  },
  {
   "cell_type": "code",
   "execution_count": 243,
   "outputs": [
    {
     "data": {
      "text/plain": "          fire         year        temp    humidity    rainfall  drought_code  \\\ncount      204   204.000000  204.000000  204.000000  204.000000    204.000000   \nunique       8          NaN         NaN         NaN         NaN           NaN   \ntop     yes             NaN         NaN         NaN         NaN           NaN   \nfreq       101          NaN         NaN         NaN         NaN           NaN   \nmean       NaN  2011.975490   31.906863   62.279412    0.823529     48.537647   \nstd        NaN     3.320987    3.814175   15.209388    2.117959     49.133366   \nmin        NaN  2007.000000   22.000000   21.000000    0.000000      7.180000   \n25%        NaN  2009.000000   29.000000   52.750000    0.000000     10.627500   \n50%        NaN  2012.000000   32.000000   63.000000    0.000000     30.550000   \n75%        NaN  2015.000000   35.000000   74.250000    0.600000     62.367500   \nmax        NaN  2017.000000   43.000000   92.000000   16.800000    221.350000   \n\n        buildup_index         day       month  wind_speed  \ncount      204.000000  204.000000  204.000000  204.000000  \nunique            NaN         NaN         NaN         NaN  \ntop               NaN         NaN         NaN         NaN  \nfreq              NaN         NaN         NaN         NaN  \nmean        16.542304   15.691176    7.553922   16.446078  \nstd         14.634994    8.907722    1.196067    3.098074  \nmin          1.320000    1.000000    6.000000    6.000000  \n25%          6.067500    8.000000    6.000000   14.750000  \n50%         11.535000   15.500000    8.000000   16.000000  \n75%         22.665000   24.000000    9.000000   18.000000  \nmax         68.270000   31.000000    9.000000   30.000000  ",
      "text/html": "<div>\n<style scoped>\n    .dataframe tbody tr th:only-of-type {\n        vertical-align: middle;\n    }\n\n    .dataframe tbody tr th {\n        vertical-align: top;\n    }\n\n    .dataframe thead th {\n        text-align: right;\n    }\n</style>\n<table border=\"1\" class=\"dataframe\">\n  <thead>\n    <tr style=\"text-align: right;\">\n      <th></th>\n      <th>fire</th>\n      <th>year</th>\n      <th>temp</th>\n      <th>humidity</th>\n      <th>rainfall</th>\n      <th>drought_code</th>\n      <th>buildup_index</th>\n      <th>day</th>\n      <th>month</th>\n      <th>wind_speed</th>\n    </tr>\n  </thead>\n  <tbody>\n    <tr>\n      <th>count</th>\n      <td>204</td>\n      <td>204.000000</td>\n      <td>204.000000</td>\n      <td>204.000000</td>\n      <td>204.000000</td>\n      <td>204.000000</td>\n      <td>204.000000</td>\n      <td>204.000000</td>\n      <td>204.000000</td>\n      <td>204.000000</td>\n    </tr>\n    <tr>\n      <th>unique</th>\n      <td>8</td>\n      <td>NaN</td>\n      <td>NaN</td>\n      <td>NaN</td>\n      <td>NaN</td>\n      <td>NaN</td>\n      <td>NaN</td>\n      <td>NaN</td>\n      <td>NaN</td>\n      <td>NaN</td>\n    </tr>\n    <tr>\n      <th>top</th>\n      <td>yes</td>\n      <td>NaN</td>\n      <td>NaN</td>\n      <td>NaN</td>\n      <td>NaN</td>\n      <td>NaN</td>\n      <td>NaN</td>\n      <td>NaN</td>\n      <td>NaN</td>\n      <td>NaN</td>\n    </tr>\n    <tr>\n      <th>freq</th>\n      <td>101</td>\n      <td>NaN</td>\n      <td>NaN</td>\n      <td>NaN</td>\n      <td>NaN</td>\n      <td>NaN</td>\n      <td>NaN</td>\n      <td>NaN</td>\n      <td>NaN</td>\n      <td>NaN</td>\n    </tr>\n    <tr>\n      <th>mean</th>\n      <td>NaN</td>\n      <td>2011.975490</td>\n      <td>31.906863</td>\n      <td>62.279412</td>\n      <td>0.823529</td>\n      <td>48.537647</td>\n      <td>16.542304</td>\n      <td>15.691176</td>\n      <td>7.553922</td>\n      <td>16.446078</td>\n    </tr>\n    <tr>\n      <th>std</th>\n      <td>NaN</td>\n      <td>3.320987</td>\n      <td>3.814175</td>\n      <td>15.209388</td>\n      <td>2.117959</td>\n      <td>49.133366</td>\n      <td>14.634994</td>\n      <td>8.907722</td>\n      <td>1.196067</td>\n      <td>3.098074</td>\n    </tr>\n    <tr>\n      <th>min</th>\n      <td>NaN</td>\n      <td>2007.000000</td>\n      <td>22.000000</td>\n      <td>21.000000</td>\n      <td>0.000000</td>\n      <td>7.180000</td>\n      <td>1.320000</td>\n      <td>1.000000</td>\n      <td>6.000000</td>\n      <td>6.000000</td>\n    </tr>\n    <tr>\n      <th>25%</th>\n      <td>NaN</td>\n      <td>2009.000000</td>\n      <td>29.000000</td>\n      <td>52.750000</td>\n      <td>0.000000</td>\n      <td>10.627500</td>\n      <td>6.067500</td>\n      <td>8.000000</td>\n      <td>6.000000</td>\n      <td>14.750000</td>\n    </tr>\n    <tr>\n      <th>50%</th>\n      <td>NaN</td>\n      <td>2012.000000</td>\n      <td>32.000000</td>\n      <td>63.000000</td>\n      <td>0.000000</td>\n      <td>30.550000</td>\n      <td>11.535000</td>\n      <td>15.500000</td>\n      <td>8.000000</td>\n      <td>16.000000</td>\n    </tr>\n    <tr>\n      <th>75%</th>\n      <td>NaN</td>\n      <td>2015.000000</td>\n      <td>35.000000</td>\n      <td>74.250000</td>\n      <td>0.600000</td>\n      <td>62.367500</td>\n      <td>22.665000</td>\n      <td>24.000000</td>\n      <td>9.000000</td>\n      <td>18.000000</td>\n    </tr>\n    <tr>\n      <th>max</th>\n      <td>NaN</td>\n      <td>2017.000000</td>\n      <td>43.000000</td>\n      <td>92.000000</td>\n      <td>16.800000</td>\n      <td>221.350000</td>\n      <td>68.270000</td>\n      <td>31.000000</td>\n      <td>9.000000</td>\n      <td>30.000000</td>\n    </tr>\n  </tbody>\n</table>\n</div>"
     },
     "execution_count": 243,
     "metadata": {},
     "output_type": "execute_result"
    }
   ],
   "source": [
    "# Tom Cronin\n",
    "wildfires_df.describe(include='all')"
   ],
   "metadata": {
    "collapsed": false
   }
  },
  {
   "cell_type": "code",
   "execution_count": 244,
   "outputs": [
    {
     "data": {
      "text/plain": "array([[<AxesSubplot:title={'center':'year'}>,\n        <AxesSubplot:title={'center':'temp'}>,\n        <AxesSubplot:title={'center':'humidity'}>],\n       [<AxesSubplot:title={'center':'rainfall'}>,\n        <AxesSubplot:title={'center':'drought_code'}>,\n        <AxesSubplot:title={'center':'buildup_index'}>],\n       [<AxesSubplot:title={'center':'day'}>,\n        <AxesSubplot:title={'center':'month'}>,\n        <AxesSubplot:title={'center':'wind_speed'}>]], dtype=object)"
     },
     "execution_count": 244,
     "metadata": {},
     "output_type": "execute_result"
    },
    {
     "data": {
      "text/plain": "<Figure size 576x576 with 9 Axes>",
      "image/png": "[encoded data removed]"
     },
     "metadata": {
      "needs_background": "light"
     },
     "output_type": "display_data"
    }
   ],
   "source": [
    "# Tom Cronin\n",
    "# Lets Look at the data graphically\n",
    "wildfires_df.hist(figsize = (8,8))"
   ],
   "metadata": {
    "collapsed": false
   }
  },
  {
   "cell_type": "code",
   "execution_count": 245,
   "outputs": [
    {
     "data": {
      "text/plain": "array([[2.015e+03, 2.800e+01, 5.900e+01, ..., 1.000e+00, 6.000e+00,\n        1.900e+01],\n       [2.010e+03, 3.000e+01, 6.100e+01, ..., 2.000e+00, 6.000e+00,\n        1.300e+01],\n       [2.009e+03, 2.600e+01, 8.300e+01, ..., 3.000e+00, 6.000e+00,\n        2.200e+01],\n       ...,\n       [2.009e+03, 2.700e+01, 8.800e+01, ..., 2.800e+01, 9.000e+00,\n        3.000e+01],\n       [2.016e+03, 2.500e+01, 5.600e+01, ..., 2.900e+01, 9.000e+00,\n        2.000e+01],\n       [2.012e+03, 2.400e+01, 6.200e+01, ..., 3.000e+01, 9.000e+00,\n        1.700e+01]])"
     },
     "execution_count": 245,
     "metadata": {},
     "output_type": "execute_result"
    }
   ],
   "source": [
    "# Tom Cronin\n",
    "features = ['year', 'temp', 'humidity', 'rainfall', 'drought_code','buildup_index', 'day', 'month', 'wind_speed'] # list of features wanted\n",
    "wildfires_df_normalised_copy = wildfires_df.copy()\n",
    "wildfires_df_standardise_copy = wildfires_df.copy()\n",
    "\n",
    "wildfires_features = wildfires_df[features].values # returns a numpy NdArray of the features\n",
    "wildfires_labels = wildfires_df[['fire']].values # returns a numpy NdArray of the label\n",
    "\n",
    "wildfires_features_normalise_copy = wildfires_df_normalised_copy[features].values # returns a numpy NdArray of the features\n",
    "wildfires_features_standardise_copy = wildfires_df_standardise_copy[features].values # returns a numpy NdArray of the features\n",
    "\n",
    "wildfires_features_normalise_copy # Shows the features\n",
    "\n"
   ],
   "metadata": {
    "collapsed": false
   }
  },
  {
   "cell_type": "code",
   "execution_count": 246,
   "outputs": [],
   "source": [
    "# Tom Cronin ToDo coment and add tests\n",
    "def standardise(ndarray, features):\n",
    "    \"\"\"\n",
    "    Standardises the data by subtracting the mean from each element and dividing it by the standard deviation\n",
    "    The results of standarising the data will reduce the standard deviation to 1 and the mean of each feature to 0\n",
    "    :param ndarray: A multidimentional array containing the features needed to be normalised\n",
    "    :param features: A list of features in the ndarray e.g. Wind, Year\n",
    "    :return: returns a new ndarry containg standardised data\n",
    "\n",
    "    ToDo: Add tests\n",
    "    \"\"\"\n",
    "    for feature in range(len(features)):\n",
    "        array = ndarray[:, feature] # gets column of feature\n",
    "        std = np.std(array)         # gets the std deviation of the feature\n",
    "        mean = np.mean(array)       # gets the mean of the feature\n",
    "        ndarray[:, feature] = (array-mean)/std  # calculates and replaces the column with its standardised version\n",
    "    return ndarray\n",
    "\n",
    "def normalise(ndarray, features):\n",
    "    \"\"\"\n",
    "    Standardises the data by subtracting the mean from each element and dividing it by the standard deviation\n",
    "    The results of standarising the data will reduce the standard deviation to 1 and the mean of each feature to 0\n",
    "    :param ndarray: A multidimentional array containing the features needed to be normalised\n",
    "    :param features: A list of features in the ndarray e.g. Wind, Year\n",
    "    :return: returns a new ndarry containg standardised data\n",
    "\n",
    "    ToDo: Add tests\n",
    "    \"\"\"\n",
    "    for feature in range(len(features)):\n",
    "        array = ndarray[:, feature] # gets column of feature\n",
    "        xmin = min(array)      # gets the min value\n",
    "        xmax = max(array)      # gets the max value\n",
    "        ndarray[:, feature] = (array-xmin)/(xmax-xmin)  # calculates and replaces the column with its normalised version\n",
    "    return ndarray\n",
    "\n",
    "wildfires_features_standardised = standardise(wildfires_features_standardise_copy, features)\n",
    "# print(wildfires_features_normalise_copy[:,0])\n",
    "\n",
    "wildfires_features_normalised = normalise(wildfires_features_normalise_copy, features)\n"
   ],
   "metadata": {
    "collapsed": false
   }
  },
  {
   "cell_type": "code",
   "execution_count": 247,
   "outputs": [
    {
     "data": {
      "text/plain": "array([[<AxesSubplot:title={'center':'year'}>,\n        <AxesSubplot:title={'center':'temp'}>,\n        <AxesSubplot:title={'center':'humidity'}>],\n       [<AxesSubplot:title={'center':'rainfall'}>,\n        <AxesSubplot:title={'center':'drought_code'}>,\n        <AxesSubplot:title={'center':'buildup_index'}>],\n       [<AxesSubplot:title={'center':'day'}>,\n        <AxesSubplot:title={'center':'month'}>,\n        <AxesSubplot:title={'center':'wind_speed'}>]], dtype=object)"
     },
     "execution_count": 247,
     "metadata": {},
     "output_type": "execute_result"
    },
    {
     "data": {
      "text/plain": "<Figure size 576x576 with 9 Axes>",
      "image/png": "[encoded data removed]"
     },
     "metadata": {
      "needs_background": "light"
     },
     "output_type": "display_data"
    },
    {
     "data": {
      "text/plain": "<Figure size 576x576 with 9 Axes>",
      "image/png": "[encoded data removed]"
     },
     "metadata": {
      "needs_background": "light"
     },
     "output_type": "display_data"
    },
    {
     "data": {
      "text/plain": "<Figure size 576x576 with 9 Axes>",
      "image/png": "[encoded data removed]"
     },
     "metadata": {
      "needs_background": "light"
     },
     "output_type": "display_data"
    }
   ],
   "source": [
    "wildfires_df.hist(figsize = (8,8), color = 'green')\n",
    "wildfires_features_standardised_df = pd.DataFrame(wildfires_features_standardised, columns=features)\n",
    "wildfires_features_standardised_df.hist(figsize = (8,8), color = 'red')\n",
    "wildfires_features_normalised_df = pd.DataFrame(wildfires_features_normalised, columns=features)\n",
    "wildfires_features_normalised_df.hist(figsize = (8,8), color = 'yellow')"
   ],
   "metadata": {
    "collapsed": false
   }
  },
  {
   "cell_type": "markdown",
   "source": [
    "# I THINK WE SHOULD USE NORMALISED"
   ],
   "metadata": {
    "collapsed": false
   }
  },
  {
   "cell_type": "code",
   "execution_count": 247,
   "outputs": [],
   "source": [],
   "metadata": {
    "collapsed": false
   }
  },
  {
   "cell_type": "code",
   "execution_count": 248,
   "metadata": {
    "collapsed": false,
    "pycharm": {
     "name": "#%%\n"
    }
   },
   "outputs": [
    {
     "name": "stdout",
     "output_type": "stream",
     "text": [
      "[1, 1, 1, 0, 1, 0, 1, 1, 1, 1, 1, 0, 0, 1, 0, 0, 1, 0, 1, 0, 1, 0, 1, 1, 0, 1, 1, 1, 0, 0, 1, 0, 0, 1, 0, 1, 0, 1, 1, 1, 1, 1, 0, 1, 1, 0, 1, 1, 0, 1, 0, 1, 0, 0, 0, 1, 1, 1, 1, 1, 1, 1, 0, 0, 0, 0, 0, 0, 0, 0, 1, 1, 1, 0, 1, 1, 1, 0, 1, 1, 1, 1, 1, 0, 1, 0, 0, 0, 1, 0, 1, 0, 1, 1, 1, 1, 1, 0, 0, 0, 0, 1, 1, 0, 0, 1, 1, 0, 0, 0, 0, 1, 0, 0, 0, 0, 0, 0, 0, 1, 0, 1, 0, 0, 0, 1, 0, 0, 1, 0, 1, 1, 0, 0, 0, 0, 1]\n",
      "[0, 0, 0, 1, 1, 1, 0, 0, 1, 1, 0, 0, 1, 0, 0, 0, 0, 1, 1, 1, 1, 1, 1, 0, 0, 0, 1, 0, 0, 0, 0, 1, 1, 0, 0, 0, 1, 1, 0, 1, 0, 1, 1, 0, 1, 1, 1, 1, 1, 1, 1, 1, 1, 1, 1, 0, 0, 0, 0, 0, 1, 1, 1, 1, 1, 1, 0]\n"
     ]
    },
    {
     "data": {
      "text/plain": "array([0, 0, 0, 1, 1, 1, 0, 0, 1, 1, 1, 0, 1, 0, 1, 1, 0, 1, 1, 1, 1, 1,\n       1, 0, 0, 0, 1, 1, 0, 1, 0, 1, 1, 0, 0, 1, 1, 1, 1, 1, 1, 1, 1, 1,\n       1, 1, 1, 1, 1, 1, 1, 1, 1, 1, 1, 0, 1, 1, 0, 0, 1, 1, 1, 1, 1, 1,\n       0])"
     },
     "execution_count": 248,
     "metadata": {},
     "output_type": "execute_result"
    }
   ],
   "source": [
    "# Daniel Verdejo - initial perceptron based on description above\n",
    "# TODO : create a fn to normalise the outputs! THEN change this test to use the real y!!! ¯\\_(ツ)_/¯\n",
    "# TODO : Figure out if fit_predict and eval are needed ¯\\_(ツ)_/¯\n",
    "class Perceptron:\n",
    "    \"\"\" The perceptron class \n",
    "\n",
    "    should return am imstamce of the created object\n",
    "    >>> Perceptron(learn_rate=0.1, n_iters=100)\n",
    "    Perceptron()\n",
    "\n",
    "    should return self (an instance of the object)\n",
    "    >>> df = read_data_return_dataframe(\"./testdata-alt.txt\")\n",
    "    >>> y, X = split_df_labels_attributes(df)\n",
    "    >>> Perceptron(learn_rate=0.1, n_iters=100).fit(X, np.array([0,0,1,0,1,1]))\n",
    "    Perceptron()\n",
    "\n",
    "    should return the prediction\n",
    "    >>> df = read_data_return_dataframe(\"./testdata-alt.txt\")\n",
    "    >>> y, X = split_df_labels_attributes(df)\n",
    "    >>> _, X_test = split_df_labels_attributes(read_data_return_dataframe('./testdata.txt'))\n",
    "    >>> P = Perceptron(learn_rate=0.5, n_iters=1000).fit(X, np.array([0,0,1,0,1,1]))\n",
    "    >>> P.predict(X_test)\n",
    "    array([0, 0])\n",
    "    \"\"\"\n",
    "\n",
    "    def __init__(self, learn_rate, n_iters):\n",
    "        self.learn_rate = learn_rate\n",
    "        self.n_iters = n_iters\n",
    "        self.activation_fn = (lambda x: np.where(x >= 0, 1, 0))\n",
    "\n",
    "    def __repr__(self):\n",
    "        return f\"{type(self).__name__}()\"\n",
    "\n",
    "    def fit(self, X, y=None):\n",
    "\n",
    "        if(isinstance(X, pd.DataFrame)):\n",
    "            X = X.to_numpy()\n",
    "        \n",
    "        self.weights = np.random.rand(X.shape[1])\n",
    "        self.bias = np.random.rand(10)[0]\n",
    "\n",
    "        for _ in range(self.n_iters):\n",
    "            for i, x_i in enumerate(X):\n",
    "                ln_out = np.dot(x_i, self.weights) + self.bias\n",
    "                update = self.learn_rate * (y[i] - self.activation_fn(ln_out))\n",
    "\n",
    "                self.weights = self.weights + (update * x_i)\n",
    "                self.bias += update\n",
    "                \n",
    "        return self\n",
    "\n",
    "    def predict(self, X):\n",
    "        if(isinstance(X, pd.DataFrame)):\n",
    "            X = X.to_numpy()\n",
    "        ln_out = np.dot(X, self.weights) + self.bias\n",
    "        pred = self.activation_fn(ln_out)\n",
    "        return pred\n",
    "\n",
    "    # Not sure if these are needed yet\n",
    "    def fit_predict(self):\n",
    "        return self\n",
    "\n",
    "    def evaluate(self):\n",
    "        pass\n",
    "\n",
    "# TODO: remove these when done testing! \n",
    "df = read_data_return_dataframe(\"./wildfires.txt\")\n",
    "df_train, df_test = split_df_to_train_test_dfs(df)\n",
    "y_train, X_train = split_df_labels_attributes(df_train)\n",
    "\n",
    "y_train = normalise_outputs(y_train)\n",
    "print(y_train)\n",
    "y_test, X_test = split_df_labels_attributes(df_test)\n",
    "y_test = normalise_outputs(y_test)\n",
    "\n",
    "P = Perceptron(.5, 1000).fit(X_train, y_train)\n",
    "print(y_test)\n",
    "pred = P.predict(X_test)\n",
    "pred\n"
   ]
  },
  {
   "cell_type": "code",
   "execution_count": 249,
   "metadata": {},
   "outputs": [
    {
     "name": "stdout",
     "output_type": "stream",
     "text": [
      "Finding tests in NoName\n",
      "Trying:\n",
      "    Perceptron(learn_rate=0.1, n_iters=100)\n",
      "Expecting:\n",
      "    Perceptron()\n",
      "ok\n",
      "Trying:\n",
      "    df = read_data_return_dataframe(\"./testdata-alt.txt\")\n",
      "Expecting nothing\n",
      "ok\n",
      "Trying:\n",
      "    y, X = split_df_labels_attributes(df)\n",
      "Expecting nothing\n",
      "ok\n",
      "Trying:\n",
      "    Perceptron(learn_rate=0.1, n_iters=100).fit(X, np.array([0,0,1,0,1,1]))\n",
      "Expecting:\n",
      "    Perceptron()\n",
      "ok\n",
      "Trying:\n",
      "    df = read_data_return_dataframe(\"./testdata-alt.txt\")\n",
      "Expecting nothing\n",
      "ok\n",
      "Trying:\n",
      "    y, X = split_df_labels_attributes(df)\n",
      "Expecting nothing\n",
      "ok\n",
      "Trying:\n",
      "    _, X_test = split_df_labels_attributes(read_data_return_dataframe('./testdata.txt'))\n",
      "Expecting nothing\n",
      "ok\n",
      "Trying:\n",
      "    P = Perceptron(learn_rate=0.5, n_iters=1000).fit(X, np.array([0,0,1,0,1,1]))\n",
      "Expecting nothing\n",
      "ok\n",
      "Trying:\n",
      "    P.predict(X_test)\n",
      "Expecting:\n",
      "    array([0, 0])\n",
      "**********************************************************************\n",
      "File \"__main__\", line ?, in NoName\n",
      "Failed example:\n",
      "    P.predict(X_test)\n",
      "Expected:\n",
      "    array([0, 0])\n",
      "Got:\n",
      "    array([1, 1])\n"
     ]
    }
   ],
   "source": [
    "doctest.run_docstring_examples(Perceptron, globals(), verbose=True, optionflags=doctest.NORMALIZE_WHITESPACE)"
   ]
  },
  {
   "cell_type": "code",
   "execution_count": 250,
   "metadata": {
    "collapsed": false,
    "pycharm": {
     "name": "#%%\n"
    }
   },
   "outputs": [],
   "source": [
    "# Multi-layer perceptron\n",
    "class MLP:\n",
    "\n",
    "    def __init__(self, layers):\n",
    "        self.layers\n",
    "        pass\n",
    "\n",
    "    def fit(self, X, y, epochs):\n",
    "        pass\n",
    "\n",
    "    def evaluate(self, X, y):\n",
    "        pass\n",
    "\n",
    "    def predict(self):\n",
    "        pass\n",
    "\n",
    "    def fit_predict(self):\n",
    "        pass\n"
   ]
  },
  {
   "cell_type": "code",
   "execution_count": 250,
   "metadata": {
    "collapsed": false,
    "pycharm": {
     "name": "#%%\n"
    }
   },
   "outputs": [],
   "source": []
  },
  {
   "cell_type": "code",
   "execution_count": 250,
   "metadata": {
    "collapsed": false,
    "pycharm": {
     "name": "#%%\n"
    }
   },
   "outputs": [],
   "source": []
  },
  {
   "cell_type": "code",
   "execution_count": 250,
   "metadata": {
    "collapsed": false,
    "pycharm": {
     "name": "#%%\n"
    }
   },
   "outputs": [],
   "source": []
  },
  {
   "cell_type": "code",
   "execution_count": 250,
   "metadata": {
    "collapsed": false,
    "pycharm": {
     "name": "#%%\n"
    }
   },
   "outputs": [],
   "source": []
  },
  {
   "cell_type": "code",
   "execution_count": 250,
   "metadata": {
    "collapsed": false,
    "pycharm": {
     "name": "#%%\n"
    }
   },
   "outputs": [],
   "source": []
  },
  {
   "cell_type": "code",
   "execution_count": 250,
   "metadata": {
    "collapsed": false,
    "pycharm": {
     "name": "#%%\n"
    }
   },
   "outputs": [],
   "source": []
  },
  {
   "cell_type": "code",
   "execution_count": 250,
   "metadata": {
    "collapsed": false,
    "pycharm": {
     "name": "#%%\n"
    }
   },
   "outputs": [],
   "source": []
  },
  {
   "cell_type": "code",
   "execution_count": 250,
   "metadata": {
    "collapsed": false,
    "pycharm": {
     "name": "#%%\n"
    }
   },
   "outputs": [],
   "source": []
  }
 ],
 "metadata": {
  "kernelspec": {
   "name": "tensorflow",
   "language": "python",
   "display_name": "Python 3.9 (tensorflow)"
  },
  "language_info": {
   "codemirror_mode": {
    "name": "ipython",
    "version": 3
   },
   "file_extension": ".py",
   "mimetype": "text/x-python",
   "name": "python",
   "nbconvert_exporter": "python",
   "pygments_lexer": "ipython3",
   "version": "3.8.13"
  },
  "vscode": {
   "interpreter": {
    "hash": "5c69e896b73d80df03b10aefe902562c227bdab9e6e1527e46fe261fc763f811"
   }
  }
 },
 "nbformat": 4,
 "nbformat_minor": 0
}
