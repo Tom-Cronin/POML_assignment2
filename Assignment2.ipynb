{
 "cells": [
  {
   "cell_type": "markdown",
   "metadata": {},
   "source": [
    "# CT5170: Principles of ML - Assignment 2\n",
    "## Course code: 1MAO3\n",
    "### Participants (name: id): (Daniel Verdejo: 22240224, Thomas Cronin: 22239435)\n"
   ]
  },
  {
   "cell_type": "code",
   "execution_count": 30,
   "metadata": {
    "collapsed": true
   },
   "outputs": [],
   "source": [
    "import pandas as pd\n",
    "import numpy as np\n",
    "from seaborn import pairplot\n",
    "import doctest\n",
    "\n",
    "\n"
   ]
  },
  {
   "cell_type": "markdown",
   "metadata": {
    "collapsed": false
   },
   "source": [
    "# Helper Functions\n",
    "This section"
   ]
  },
  {
   "cell_type": "markdown",
   "metadata": {
    "collapsed": false
   },
   "source": [
    "# Data Exploration"
   ]
  },
  {
   "cell_type": "code",
   "execution_count": 31,
   "metadata": {
    "collapsed": false
   },
   "outputs": [],
   "source": [
    "# Tom Cronin\n",
    "wildfires_df = read_data_return_dataframe(\"wildfires.txt\") # Loads The wildfire Dataset"
   ]
  },
  {
   "cell_type": "code",
   "execution_count": 32,
   "metadata": {
    "collapsed": false
   },
   "outputs": [
    {
     "data": {
      "text/plain": [
       "(204, 10)"
      ]
     },
     "execution_count": 32,
     "metadata": {},
     "output_type": "execute_result"
    }
   ],
   "source": [
    "# Tom Cronin\n",
    "wildfires_df.shape # gets the dimensions of the dataframe"
   ]
  },
  {
   "cell_type": "code",
   "execution_count": 33,
   "metadata": {
    "collapsed": false
   },
   "outputs": [
    {
     "data": {
      "text/plain": [
       "Index(['fire', 'year', 'temp', 'humidity', 'rainfall', 'drought_code',\n",
       "       'buildup_index', 'day', 'month', 'wind_speed'],\n",
       "      dtype='object')"
      ]
     },
     "execution_count": 33,
     "metadata": {},
     "output_type": "execute_result"
    }
   ],
   "source": [
    "# Tom Cronin\n",
    "wildfires_df.columns # gets the features of the columns"
   ]
  },
  {
   "cell_type": "code",
   "execution_count": 34,
   "metadata": {
    "collapsed": false
   },
   "outputs": [
    {
     "data": {
      "text/plain": [
       "fire              object\n",
       "year               int64\n",
       "temp               int64\n",
       "humidity           int64\n",
       "rainfall         float64\n",
       "drought_code     float64\n",
       "buildup_index    float64\n",
       "day                int64\n",
       "month              int64\n",
       "wind_speed         int64\n",
       "dtype: object"
      ]
     },
     "execution_count": 34,
     "metadata": {},
     "output_type": "execute_result"
    }
   ],
   "source": [
    "# Tom Cronin\n",
    "wildfires_df.dtypes # returns the datatypes"
   ]
  },
  {
   "cell_type": "code",
   "execution_count": 35,
   "metadata": {
    "collapsed": false
   },
   "outputs": [
    {
     "data": {
      "text/html": [
       "<div>\n",
       "<style scoped>\n",
       "    .dataframe tbody tr th:only-of-type {\n",
       "        vertical-align: middle;\n",
       "    }\n",
       "\n",
       "    .dataframe tbody tr th {\n",
       "        vertical-align: top;\n",
       "    }\n",
       "\n",
       "    .dataframe thead th {\n",
       "        text-align: right;\n",
       "    }\n",
       "</style>\n",
       "<table border=\"1\" class=\"dataframe\">\n",
       "  <thead>\n",
       "    <tr style=\"text-align: right;\">\n",
       "      <th></th>\n",
       "      <th>fire</th>\n",
       "      <th>year</th>\n",
       "      <th>temp</th>\n",
       "      <th>humidity</th>\n",
       "      <th>rainfall</th>\n",
       "      <th>drought_code</th>\n",
       "      <th>buildup_index</th>\n",
       "      <th>day</th>\n",
       "      <th>month</th>\n",
       "      <th>wind_speed</th>\n",
       "    </tr>\n",
       "  </thead>\n",
       "  <tbody>\n",
       "    <tr>\n",
       "      <th>count</th>\n",
       "      <td>204</td>\n",
       "      <td>204.000000</td>\n",
       "      <td>204.000000</td>\n",
       "      <td>204.000000</td>\n",
       "      <td>204.000000</td>\n",
       "      <td>204.000000</td>\n",
       "      <td>204.000000</td>\n",
       "      <td>204.000000</td>\n",
       "      <td>204.000000</td>\n",
       "      <td>204.000000</td>\n",
       "    </tr>\n",
       "    <tr>\n",
       "      <th>unique</th>\n",
       "      <td>8</td>\n",
       "      <td>NaN</td>\n",
       "      <td>NaN</td>\n",
       "      <td>NaN</td>\n",
       "      <td>NaN</td>\n",
       "      <td>NaN</td>\n",
       "      <td>NaN</td>\n",
       "      <td>NaN</td>\n",
       "      <td>NaN</td>\n",
       "      <td>NaN</td>\n",
       "    </tr>\n",
       "    <tr>\n",
       "      <th>top</th>\n",
       "      <td>yes</td>\n",
       "      <td>NaN</td>\n",
       "      <td>NaN</td>\n",
       "      <td>NaN</td>\n",
       "      <td>NaN</td>\n",
       "      <td>NaN</td>\n",
       "      <td>NaN</td>\n",
       "      <td>NaN</td>\n",
       "      <td>NaN</td>\n",
       "      <td>NaN</td>\n",
       "    </tr>\n",
       "    <tr>\n",
       "      <th>freq</th>\n",
       "      <td>101</td>\n",
       "      <td>NaN</td>\n",
       "      <td>NaN</td>\n",
       "      <td>NaN</td>\n",
       "      <td>NaN</td>\n",
       "      <td>NaN</td>\n",
       "      <td>NaN</td>\n",
       "      <td>NaN</td>\n",
       "      <td>NaN</td>\n",
       "      <td>NaN</td>\n",
       "    </tr>\n",
       "    <tr>\n",
       "      <th>mean</th>\n",
       "      <td>NaN</td>\n",
       "      <td>2011.975490</td>\n",
       "      <td>31.906863</td>\n",
       "      <td>62.279412</td>\n",
       "      <td>0.823529</td>\n",
       "      <td>48.537647</td>\n",
       "      <td>16.542304</td>\n",
       "      <td>15.691176</td>\n",
       "      <td>7.553922</td>\n",
       "      <td>16.446078</td>\n",
       "    </tr>\n",
       "    <tr>\n",
       "      <th>std</th>\n",
       "      <td>NaN</td>\n",
       "      <td>3.320987</td>\n",
       "      <td>3.814175</td>\n",
       "      <td>15.209388</td>\n",
       "      <td>2.117959</td>\n",
       "      <td>49.133366</td>\n",
       "      <td>14.634994</td>\n",
       "      <td>8.907722</td>\n",
       "      <td>1.196067</td>\n",
       "      <td>3.098074</td>\n",
       "    </tr>\n",
       "    <tr>\n",
       "      <th>min</th>\n",
       "      <td>NaN</td>\n",
       "      <td>2007.000000</td>\n",
       "      <td>22.000000</td>\n",
       "      <td>21.000000</td>\n",
       "      <td>0.000000</td>\n",
       "      <td>7.180000</td>\n",
       "      <td>1.320000</td>\n",
       "      <td>1.000000</td>\n",
       "      <td>6.000000</td>\n",
       "      <td>6.000000</td>\n",
       "    </tr>\n",
       "    <tr>\n",
       "      <th>25%</th>\n",
       "      <td>NaN</td>\n",
       "      <td>2009.000000</td>\n",
       "      <td>29.000000</td>\n",
       "      <td>52.750000</td>\n",
       "      <td>0.000000</td>\n",
       "      <td>10.627500</td>\n",
       "      <td>6.067500</td>\n",
       "      <td>8.000000</td>\n",
       "      <td>6.000000</td>\n",
       "      <td>14.750000</td>\n",
       "    </tr>\n",
       "    <tr>\n",
       "      <th>50%</th>\n",
       "      <td>NaN</td>\n",
       "      <td>2012.000000</td>\n",
       "      <td>32.000000</td>\n",
       "      <td>63.000000</td>\n",
       "      <td>0.000000</td>\n",
       "      <td>30.550000</td>\n",
       "      <td>11.535000</td>\n",
       "      <td>15.500000</td>\n",
       "      <td>8.000000</td>\n",
       "      <td>16.000000</td>\n",
       "    </tr>\n",
       "    <tr>\n",
       "      <th>75%</th>\n",
       "      <td>NaN</td>\n",
       "      <td>2015.000000</td>\n",
       "      <td>35.000000</td>\n",
       "      <td>74.250000</td>\n",
       "      <td>0.600000</td>\n",
       "      <td>62.367500</td>\n",
       "      <td>22.665000</td>\n",
       "      <td>24.000000</td>\n",
       "      <td>9.000000</td>\n",
       "      <td>18.000000</td>\n",
       "    </tr>\n",
       "    <tr>\n",
       "      <th>max</th>\n",
       "      <td>NaN</td>\n",
       "      <td>2017.000000</td>\n",
       "      <td>43.000000</td>\n",
       "      <td>92.000000</td>\n",
       "      <td>16.800000</td>\n",
       "      <td>221.350000</td>\n",
       "      <td>68.270000</td>\n",
       "      <td>31.000000</td>\n",
       "      <td>9.000000</td>\n",
       "      <td>30.000000</td>\n",
       "    </tr>\n",
       "  </tbody>\n",
       "</table>\n",
       "</div>"
      ],
      "text/plain": [
       "          fire         year        temp    humidity    rainfall  drought_code  \\\n",
       "count      204   204.000000  204.000000  204.000000  204.000000    204.000000   \n",
       "unique       8          NaN         NaN         NaN         NaN           NaN   \n",
       "top     yes             NaN         NaN         NaN         NaN           NaN   \n",
       "freq       101          NaN         NaN         NaN         NaN           NaN   \n",
       "mean       NaN  2011.975490   31.906863   62.279412    0.823529     48.537647   \n",
       "std        NaN     3.320987    3.814175   15.209388    2.117959     49.133366   \n",
       "min        NaN  2007.000000   22.000000   21.000000    0.000000      7.180000   \n",
       "25%        NaN  2009.000000   29.000000   52.750000    0.000000     10.627500   \n",
       "50%        NaN  2012.000000   32.000000   63.000000    0.000000     30.550000   \n",
       "75%        NaN  2015.000000   35.000000   74.250000    0.600000     62.367500   \n",
       "max        NaN  2017.000000   43.000000   92.000000   16.800000    221.350000   \n",
       "\n",
       "        buildup_index         day       month  wind_speed  \n",
       "count      204.000000  204.000000  204.000000  204.000000  \n",
       "unique            NaN         NaN         NaN         NaN  \n",
       "top               NaN         NaN         NaN         NaN  \n",
       "freq              NaN         NaN         NaN         NaN  \n",
       "mean        16.542304   15.691176    7.553922   16.446078  \n",
       "std         14.634994    8.907722    1.196067    3.098074  \n",
       "min          1.320000    1.000000    6.000000    6.000000  \n",
       "25%          6.067500    8.000000    6.000000   14.750000  \n",
       "50%         11.535000   15.500000    8.000000   16.000000  \n",
       "75%         22.665000   24.000000    9.000000   18.000000  \n",
       "max         68.270000   31.000000    9.000000   30.000000  "
      ]
     },
     "execution_count": 35,
     "metadata": {},
     "output_type": "execute_result"
    }
   ],
   "source": [
    "# Tom Cronin\n",
    "wildfires_df.describe(include='all')"
   ]
  },
  {
   "cell_type": "markdown",
   "metadata": {
    "collapsed": false
   },
   "source": [
    "## Fire Label\n",
    "The fire label seems to have 8 unique values for a table that should only have 2, yes or no. We can fix this by re-entering the fire label\n"
   ]
  },
  {
   "cell_type": "code",
   "execution_count": 36,
   "metadata": {
    "collapsed": false
   },
   "outputs": [
    {
     "data": {
      "text/html": [
       "<div>\n",
       "<style scoped>\n",
       "    .dataframe tbody tr th:only-of-type {\n",
       "        vertical-align: middle;\n",
       "    }\n",
       "\n",
       "    .dataframe tbody tr th {\n",
       "        vertical-align: top;\n",
       "    }\n",
       "\n",
       "    .dataframe thead th {\n",
       "        text-align: right;\n",
       "    }\n",
       "</style>\n",
       "<table border=\"1\" class=\"dataframe\">\n",
       "  <thead>\n",
       "    <tr style=\"text-align: right;\">\n",
       "      <th></th>\n",
       "      <th>fire</th>\n",
       "      <th>year</th>\n",
       "      <th>temp</th>\n",
       "      <th>humidity</th>\n",
       "      <th>rainfall</th>\n",
       "      <th>drought_code</th>\n",
       "      <th>buildup_index</th>\n",
       "      <th>day</th>\n",
       "      <th>month</th>\n",
       "      <th>wind_speed</th>\n",
       "    </tr>\n",
       "  </thead>\n",
       "  <tbody>\n",
       "    <tr>\n",
       "      <th>count</th>\n",
       "      <td>204</td>\n",
       "      <td>204.000000</td>\n",
       "      <td>204.000000</td>\n",
       "      <td>204.000000</td>\n",
       "      <td>204.000000</td>\n",
       "      <td>204.000000</td>\n",
       "      <td>204.000000</td>\n",
       "      <td>204.000000</td>\n",
       "      <td>204.000000</td>\n",
       "      <td>204.000000</td>\n",
       "    </tr>\n",
       "    <tr>\n",
       "      <th>unique</th>\n",
       "      <td>2</td>\n",
       "      <td>NaN</td>\n",
       "      <td>NaN</td>\n",
       "      <td>NaN</td>\n",
       "      <td>NaN</td>\n",
       "      <td>NaN</td>\n",
       "      <td>NaN</td>\n",
       "      <td>NaN</td>\n",
       "      <td>NaN</td>\n",
       "      <td>NaN</td>\n",
       "    </tr>\n",
       "    <tr>\n",
       "      <th>top</th>\n",
       "      <td>YES</td>\n",
       "      <td>NaN</td>\n",
       "      <td>NaN</td>\n",
       "      <td>NaN</td>\n",
       "      <td>NaN</td>\n",
       "      <td>NaN</td>\n",
       "      <td>NaN</td>\n",
       "      <td>NaN</td>\n",
       "      <td>NaN</td>\n",
       "      <td>NaN</td>\n",
       "    </tr>\n",
       "    <tr>\n",
       "      <th>freq</th>\n",
       "      <td>107</td>\n",
       "      <td>NaN</td>\n",
       "      <td>NaN</td>\n",
       "      <td>NaN</td>\n",
       "      <td>NaN</td>\n",
       "      <td>NaN</td>\n",
       "      <td>NaN</td>\n",
       "      <td>NaN</td>\n",
       "      <td>NaN</td>\n",
       "      <td>NaN</td>\n",
       "    </tr>\n",
       "    <tr>\n",
       "      <th>mean</th>\n",
       "      <td>NaN</td>\n",
       "      <td>2011.975490</td>\n",
       "      <td>31.906863</td>\n",
       "      <td>62.279412</td>\n",
       "      <td>0.823529</td>\n",
       "      <td>48.537647</td>\n",
       "      <td>16.542304</td>\n",
       "      <td>15.691176</td>\n",
       "      <td>7.553922</td>\n",
       "      <td>16.446078</td>\n",
       "    </tr>\n",
       "    <tr>\n",
       "      <th>std</th>\n",
       "      <td>NaN</td>\n",
       "      <td>3.320987</td>\n",
       "      <td>3.814175</td>\n",
       "      <td>15.209388</td>\n",
       "      <td>2.117959</td>\n",
       "      <td>49.133366</td>\n",
       "      <td>14.634994</td>\n",
       "      <td>8.907722</td>\n",
       "      <td>1.196067</td>\n",
       "      <td>3.098074</td>\n",
       "    </tr>\n",
       "    <tr>\n",
       "      <th>min</th>\n",
       "      <td>NaN</td>\n",
       "      <td>2007.000000</td>\n",
       "      <td>22.000000</td>\n",
       "      <td>21.000000</td>\n",
       "      <td>0.000000</td>\n",
       "      <td>7.180000</td>\n",
       "      <td>1.320000</td>\n",
       "      <td>1.000000</td>\n",
       "      <td>6.000000</td>\n",
       "      <td>6.000000</td>\n",
       "    </tr>\n",
       "    <tr>\n",
       "      <th>25%</th>\n",
       "      <td>NaN</td>\n",
       "      <td>2009.000000</td>\n",
       "      <td>29.000000</td>\n",
       "      <td>52.750000</td>\n",
       "      <td>0.000000</td>\n",
       "      <td>10.627500</td>\n",
       "      <td>6.067500</td>\n",
       "      <td>8.000000</td>\n",
       "      <td>6.000000</td>\n",
       "      <td>14.750000</td>\n",
       "    </tr>\n",
       "    <tr>\n",
       "      <th>50%</th>\n",
       "      <td>NaN</td>\n",
       "      <td>2012.000000</td>\n",
       "      <td>32.000000</td>\n",
       "      <td>63.000000</td>\n",
       "      <td>0.000000</td>\n",
       "      <td>30.550000</td>\n",
       "      <td>11.535000</td>\n",
       "      <td>15.500000</td>\n",
       "      <td>8.000000</td>\n",
       "      <td>16.000000</td>\n",
       "    </tr>\n",
       "    <tr>\n",
       "      <th>75%</th>\n",
       "      <td>NaN</td>\n",
       "      <td>2015.000000</td>\n",
       "      <td>35.000000</td>\n",
       "      <td>74.250000</td>\n",
       "      <td>0.600000</td>\n",
       "      <td>62.367500</td>\n",
       "      <td>22.665000</td>\n",
       "      <td>24.000000</td>\n",
       "      <td>9.000000</td>\n",
       "      <td>18.000000</td>\n",
       "    </tr>\n",
       "    <tr>\n",
       "      <th>max</th>\n",
       "      <td>NaN</td>\n",
       "      <td>2017.000000</td>\n",
       "      <td>43.000000</td>\n",
       "      <td>92.000000</td>\n",
       "      <td>16.800000</td>\n",
       "      <td>221.350000</td>\n",
       "      <td>68.270000</td>\n",
       "      <td>31.000000</td>\n",
       "      <td>9.000000</td>\n",
       "      <td>30.000000</td>\n",
       "    </tr>\n",
       "  </tbody>\n",
       "</table>\n",
       "</div>"
      ],
      "text/plain": [
       "       fire         year        temp    humidity    rainfall  drought_code  \\\n",
       "count   204   204.000000  204.000000  204.000000  204.000000    204.000000   \n",
       "unique    2          NaN         NaN         NaN         NaN           NaN   \n",
       "top     YES          NaN         NaN         NaN         NaN           NaN   \n",
       "freq    107          NaN         NaN         NaN         NaN           NaN   \n",
       "mean    NaN  2011.975490   31.906863   62.279412    0.823529     48.537647   \n",
       "std     NaN     3.320987    3.814175   15.209388    2.117959     49.133366   \n",
       "min     NaN  2007.000000   22.000000   21.000000    0.000000      7.180000   \n",
       "25%     NaN  2009.000000   29.000000   52.750000    0.000000     10.627500   \n",
       "50%     NaN  2012.000000   32.000000   63.000000    0.000000     30.550000   \n",
       "75%     NaN  2015.000000   35.000000   74.250000    0.600000     62.367500   \n",
       "max     NaN  2017.000000   43.000000   92.000000   16.800000    221.350000   \n",
       "\n",
       "        buildup_index         day       month  wind_speed  \n",
       "count      204.000000  204.000000  204.000000  204.000000  \n",
       "unique            NaN         NaN         NaN         NaN  \n",
       "top               NaN         NaN         NaN         NaN  \n",
       "freq              NaN         NaN         NaN         NaN  \n",
       "mean        16.542304   15.691176    7.553922   16.446078  \n",
       "std         14.634994    8.907722    1.196067    3.098074  \n",
       "min          1.320000    1.000000    6.000000    6.000000  \n",
       "25%          6.067500    8.000000    6.000000   14.750000  \n",
       "50%         11.535000   15.500000    8.000000   16.000000  \n",
       "75%         22.665000   24.000000    9.000000   18.000000  \n",
       "max         68.270000   31.000000    9.000000   30.000000  "
      ]
     },
     "execution_count": 36,
     "metadata": {},
     "output_type": "execute_result"
    }
   ],
   "source": [
    "ndarray = wildfires_df['fire'].copy()\n",
    "for index in range(len(ndarray)):\n",
    "    if 'no' in ndarray[index].lower():\n",
    "        ndarray[index] = \"NO\"\n",
    "    elif 'yes' in ndarray[index].lower():\n",
    "        ndarray[index] = \"YES\"\n",
    "wildfires_df['fire'] = ndarray\n",
    "labels_copy_df = wildfires_df['fire'].copy()\n",
    "wildfires_df.describe(include='all')\n"
   ]
  },
  {
   "cell_type": "code",
   "execution_count": 37,
   "metadata": {
    "collapsed": false
   },
   "outputs": [
    {
     "data": {
      "text/plain": [
       "array([[<AxesSubplot: title={'center': 'year'}>,\n",
       "        <AxesSubplot: title={'center': 'temp'}>,\n",
       "        <AxesSubplot: title={'center': 'humidity'}>],\n",
       "       [<AxesSubplot: title={'center': 'rainfall'}>,\n",
       "        <AxesSubplot: title={'center': 'drought_code'}>,\n",
       "        <AxesSubplot: title={'center': 'buildup_index'}>],\n",
       "       [<AxesSubplot: title={'center': 'day'}>,\n",
       "        <AxesSubplot: title={'center': 'month'}>,\n",
       "        <AxesSubplot: title={'center': 'wind_speed'}>]], dtype=object)"
      ]
     },
     "execution_count": 37,
     "metadata": {},
     "output_type": "execute_result"
    },
    {
     "data": {
      "image/png": "[encoded data removed]",
      "text/plain": [
       "<Figure size 800x800 with 9 Axes>"
      ]
     },
     "metadata": {},
     "output_type": "display_data"
    }
   ],
   "source": [
    "# Tom Cronin\n",
    "# Lets Look at the data graphically\n",
    "wildfires_df.hist(figsize = (8,8))"
   ]
  },
  {
   "cell_type": "code",
   "execution_count": 38,
   "metadata": {
    "collapsed": false
   },
   "outputs": [],
   "source": [
    "\n",
    "# plot = stripplot(x=\"fire\", y=\"fire\", data=wildfires_df, jitter=0.2, hue=\"fire\")\n",
    "features = ['year', 'temp', 'humidity', 'rainfall', 'drought_code','buildup_index', 'day', 'month', 'wind_speed'] # list of features wanted\n",
    "# plot = pairplot(data=wildfires_df, hue=\"fire\", diag_kind=\"hist\", corner=True, height=1.5)"
   ]
  },
  {
   "cell_type": "code",
   "execution_count": 39,
   "metadata": {
    "collapsed": false
   },
   "outputs": [
    {
     "data": {
      "text/plain": [
       "array([[2.015e+03, 2.800e+01, 5.900e+01, ..., 1.000e+00, 6.000e+00,\n",
       "        1.900e+01],\n",
       "       [2.010e+03, 3.000e+01, 6.100e+01, ..., 2.000e+00, 6.000e+00,\n",
       "        1.300e+01],\n",
       "       [2.009e+03, 2.600e+01, 8.300e+01, ..., 3.000e+00, 6.000e+00,\n",
       "        2.200e+01],\n",
       "       ...,\n",
       "       [2.009e+03, 2.700e+01, 8.800e+01, ..., 2.800e+01, 9.000e+00,\n",
       "        3.000e+01],\n",
       "       [2.016e+03, 2.500e+01, 5.600e+01, ..., 2.900e+01, 9.000e+00,\n",
       "        2.000e+01],\n",
       "       [2.012e+03, 2.400e+01, 6.200e+01, ..., 3.000e+01, 9.000e+00,\n",
       "        1.700e+01]])"
      ]
     },
     "execution_count": 39,
     "metadata": {},
     "output_type": "execute_result"
    }
   ],
   "source": [
    "# Tom Cronin\n",
    "\n",
    "wildfires_df_normalised_copy = wildfires_df.copy()\n",
    "wildfires_features = wildfires_df[features].values # returns a numpy NdArray of the features\n",
    "wildfires_labels = wildfires_df[['fire']].values # returns a numpy NdArray of the label\n",
    "wildfires_features_normalise_copy = wildfires_df_normalised_copy[features].values # returns a numpy NdArray of the features\n",
    "wildfires_features_normalise_copy # Shows the features\n",
    "\n"
   ]
  },
  {
   "cell_type": "code",
   "execution_count": 40,
   "metadata": {
    "collapsed": false
   },
   "outputs": [],
   "source": [
    "\n",
    "\n",
    "wildfires_features_normalised = normalise(wildfires_features_normalise_copy, features)\n"
   ]
  },
  {
   "cell_type": "code",
   "execution_count": 41,
   "metadata": {
    "collapsed": false
   },
   "outputs": [],
   "source": [
    "wildfires_features_normalised_df = pd.DataFrame(wildfires_features_normalised, columns=features)\n",
    "wildfires_features_normalised_df['fire'] = labels_copy_df\n"
   ]
  },
  {
   "cell_type": "code",
   "execution_count": 42,
   "metadata": {
    "collapsed": false
   },
   "outputs": [],
   "source": [
    "# pairplot(data=wildfires_features_normalised_df, hue=\"fire\", diag_kind=\"hist\", corner=True, height=1.5)\n"
   ]
  },
  {
   "cell_type": "markdown",
   "metadata": {
    "collapsed": false
   },
   "source": [
    "\n",
    "# I THINK WE SHOULD USE NORMALISED"
   ]
  },
  {
   "cell_type": "code",
   "execution_count": null,
   "metadata": {
    "collapsed": false
   },
   "outputs": [],
   "source": []
  },
  {
   "cell_type": "code",
   "execution_count": 45,
   "metadata": {
    "collapsed": false,
    "pycharm": {
     "name": "#%%\n"
    }
   },
   "outputs": [
    {
     "ename": "IndexError",
     "evalue": "list index out of range",
     "output_type": "error",
     "traceback": [
      "\u001B[1;31m---------------------------------------------------------------------------\u001B[0m",
      "\u001B[1;31mIndexError\u001B[0m                                Traceback (most recent call last)",
      "\u001B[1;32mc:\\Users\\danny\\dev\\machine-learning_CT5170\\POML_assignment2\\Assignment2.ipynb Cell 20\u001B[0m in \u001B[0;36m<cell line: 28>\u001B[1;34m()\u001B[0m\n\u001B[0;32m     <a href='vscode-notebook-cell:/c%3A/Users/danny/dev/machine-learning_CT5170/POML_assignment2/Assignment2.ipynb#Y130sZmlsZQ%3D%3D?line=25'>26</a>\u001B[0m \u001B[39m# mlp.add_layer(l1)\u001B[39;00m\n\u001B[0;32m     <a href='vscode-notebook-cell:/c%3A/Users/danny/dev/machine-learning_CT5170/POML_assignment2/Assignment2.ipynb#Y130sZmlsZQ%3D%3D?line=26'>27</a>\u001B[0m mlp\u001B[39m.\u001B[39madd_layer(l2)\n\u001B[1;32m---> <a href='vscode-notebook-cell:/c%3A/Users/danny/dev/machine-learning_CT5170/POML_assignment2/Assignment2.ipynb#Y130sZmlsZQ%3D%3D?line=27'>28</a>\u001B[0m mlp\u001B[39m.\u001B[39;49mfit(X, y)\n",
      "File \u001B[1;32mc:\\Users\\danny\\dev\\machine-learning_CT5170\\POML_assignment2\\src\\mlp.py:61\u001B[0m, in \u001B[0;36mMLP.fit\u001B[1;34m(self, X, y)\u001B[0m\n\u001B[0;32m     59\u001B[0m W \u001B[39m=\u001B[39m h\u001B[39m.\u001B[39mweights\n\u001B[0;32m     60\u001B[0m B \u001B[39m=\u001B[39m h\u001B[39m.\u001B[39mbias\n\u001B[1;32m---> 61\u001B[0m \u001B[39mself\u001B[39m\u001B[39m.\u001B[39m_feed_forward(\u001B[39mself\u001B[39;49m\u001B[39m.\u001B[39;49mlayers[\u001B[39m1\u001B[39;49m], X\u001B[39m=\u001B[39mX, W\u001B[39m=\u001B[39mW, B\u001B[39m=\u001B[39mB, y\u001B[39m=\u001B[39my)\n",
      "\u001B[1;31mIndexError\u001B[0m: list index out of range"
     ]
    }
   ],
   "source": [
    "# Daniel Verdejo - initial perceptron based on description above\n",
    "# TODO : Figure out if fit_predict and eval are needed ¯\\_(ツ)_/¯\n",
    "import src.perceptron as p\n",
    "import src.layer as l\n",
    "import src.mlp as nn\n",
    "from src.utils import *\n",
    "from sklearn.metrics import accuracy_score\n",
    "\n",
    "def transform(Y):\n",
    "    return np.array([1 if 'yes' in y else 0 for y in Y['fire']])\n",
    "\n",
    "# TODO: remove these when done testing! \n",
    " \n",
    "df = read_data_return_dataframe(\"./wildfires.txt\")\n",
    "y, X = split_df_labels_attributes(df)\n",
    "y = transform(y)\n",
    "y_test, X_test = split_df_labels_attributes(read_data_return_dataframe('./wildfires.txt'))\n",
    "y_test = transform(y_test)\n",
    "perc = p.Perceptron().fit(X, y)\n",
    "\n",
    "accuracy_score(y_test, perc.predict(X_test))\n",
    "\n",
    "l1 = l.Layer()\n",
    "l2 = [p.Perceptron() for _ in range(6)]\n",
    "mlp = nn.MLP(learn_rate=.02, n_iters= 500)\n",
    "# mlp.add_layer(l1)\n",
    "mlp.add_layer(l2)\n",
    "mlp.fit(X, y)\n"
   ]
  },
  {
   "cell_type": "code",
   "execution_count": null,
   "metadata": {},
   "outputs": [],
   "source": []
  },
  {
   "cell_type": "code",
   "execution_count": null,
   "metadata": {
    "collapsed": false,
    "pycharm": {
     "name": "#%%\n"
    }
   },
   "outputs": [],
   "source": [
    "\n"
   ]
  },
  {
   "cell_type": "code",
   "execution_count": null,
   "metadata": {
    "collapsed": false,
    "pycharm": {
     "name": "#%%\n"
    }
   },
   "outputs": [
    {
     "ename": "NameError",
     "evalue": "name 'MLP' is not defined",
     "output_type": "error",
     "traceback": [
      "\u001B[1;31m---------------------------------------------------------------------------\u001B[0m",
      "\u001B[1;31mNameError\u001B[0m                                 Traceback (most recent call last)",
      "Cell \u001B[1;32mIn [55], line 1\u001B[0m\n\u001B[1;32m----> 1\u001B[0m doctest\u001B[39m.\u001B[39mrun_docstring_examples(MLP, \u001B[39mglobals\u001B[39m(), verbose\u001B[39m=\u001B[39m\u001B[39mTrue\u001B[39;00m, optionflags\u001B[39m=\u001B[39mdoctest\u001B[39m.\u001B[39mNORMALIZE_WHITESPACE)\n",
      "\u001B[1;31mNameError\u001B[0m: name 'MLP' is not defined"
     ]
    }
   ],
   "source": []
  },
  {
   "cell_type": "code",
   "execution_count": null,
   "metadata": {
    "collapsed": false,
    "pycharm": {
     "name": "#%%\n"
    }
   },
   "outputs": [],
   "source": []
  },
  {
   "cell_type": "code",
   "execution_count": null,
   "metadata": {
    "collapsed": false,
    "pycharm": {
     "name": "#%%\n"
    }
   },
   "outputs": [],
   "source": []
  },
  {
   "cell_type": "code",
   "execution_count": null,
   "metadata": {
    "collapsed": false,
    "pycharm": {
     "name": "#%%\n"
    }
   },
   "outputs": [],
   "source": []
  },
  {
   "cell_type": "code",
   "execution_count": null,
   "metadata": {
    "collapsed": false,
    "pycharm": {
     "name": "#%%\n"
    }
   },
   "outputs": [],
   "source": []
  },
  {
   "cell_type": "code",
   "execution_count": null,
   "metadata": {
    "collapsed": false,
    "pycharm": {
     "name": "#%%\n"
    }
   },
   "outputs": [],
   "source": []
  },
  {
   "cell_type": "code",
   "execution_count": null,
   "metadata": {
    "collapsed": false,
    "pycharm": {
     "name": "#%%\n"
    }
   },
   "outputs": [],
   "source": []
  },
  {
   "cell_type": "code",
   "execution_count": null,
   "metadata": {
    "collapsed": false,
    "pycharm": {
     "name": "#%%\n"
    }
   },
   "outputs": [],
   "source": []
  }
 ],
 "metadata": {
  "kernelspec": {
   "display_name": "Python 3.8.10 64-bit",
   "language": "python",
   "name": "python3"
  },
  "language_info": {
   "codemirror_mode": {
    "name": "ipython",
    "version": 3
   },
   "file_extension": ".py",
   "mimetype": "text/x-python",
   "name": "python",
   "nbconvert_exporter": "python",
   "pygments_lexer": "ipython3",
   "version": "3.8.10"
  },
  "vscode": {
   "interpreter": {
    "hash": "311f9ad72853ce38d00a12521a098bf105a13a75490bd1b1a64bc7cd30e01863"
   }
  }
 },
 "nbformat": 4,
 "nbformat_minor": 0
}
