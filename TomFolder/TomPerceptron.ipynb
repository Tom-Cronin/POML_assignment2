{
 "cells": [
  {
   "cell_type": "code",
   "execution_count": 1,
   "metadata": {
    "collapsed": true
   },
   "outputs": [],
   "source": [
    "import data_functions\n",
    "from data_functions import *\n",
    "import pandas as pd\n",
    "import Perceptron\n",
    "from sklearn.model_selection import train_test_split\n",
    "from sklearn.metrics import accuracy_score, f1_score\n",
    "\n",
    "\n",
    "import time"
   ]
  },
  {
   "cell_type": "code",
   "execution_count": 2,
   "outputs": [
    {
     "data": {
      "text/plain": "     year  temp  humidity  rainfall  drought_code  buildup_index  day  month  \\\n0    2015    28        59       0.0          8.06           3.47    1      6   \n1    2010    30        61       1.3          8.17           4.03    2      6   \n2    2009    26        83      13.1          8.08           3.59    3      6   \n3    2017    25        87       2.5          7.18           2.42    4      6   \n4    2014    28        77       0.0         14.98           4.63    5      6   \n..    ...   ...       ...       ...           ...            ...  ...    ...   \n199  2017    31        67       0.0         45.15          17.89   26      9   \n200  2017    29        89       4.4          8.74           6.52   27      9   \n201  2009    27        88       0.5          8.87           3.71   28      9   \n202  2016    25        56       0.1         15.54           6.10   29      9   \n203  2012    24        62       0.2         16.72           5.75   30      9   \n\n     wind_speed  \n0            19  \n1            13  \n2            22  \n3            15  \n4            18  \n..          ...  \n199          15  \n200          15  \n201          30  \n202          20  \n203          17  \n\n[204 rows x 9 columns]",
      "text/html": "<div>\n<style scoped>\n    .dataframe tbody tr th:only-of-type {\n        vertical-align: middle;\n    }\n\n    .dataframe tbody tr th {\n        vertical-align: top;\n    }\n\n    .dataframe thead th {\n        text-align: right;\n    }\n</style>\n<table border=\"1\" class=\"dataframe\">\n  <thead>\n    <tr style=\"text-align: right;\">\n      <th></th>\n      <th>year</th>\n      <th>temp</th>\n      <th>humidity</th>\n      <th>rainfall</th>\n      <th>drought_code</th>\n      <th>buildup_index</th>\n      <th>day</th>\n      <th>month</th>\n      <th>wind_speed</th>\n    </tr>\n  </thead>\n  <tbody>\n    <tr>\n      <th>0</th>\n      <td>2015</td>\n      <td>28</td>\n      <td>59</td>\n      <td>0.0</td>\n      <td>8.06</td>\n      <td>3.47</td>\n      <td>1</td>\n      <td>6</td>\n      <td>19</td>\n    </tr>\n    <tr>\n      <th>1</th>\n      <td>2010</td>\n      <td>30</td>\n      <td>61</td>\n      <td>1.3</td>\n      <td>8.17</td>\n      <td>4.03</td>\n      <td>2</td>\n      <td>6</td>\n      <td>13</td>\n    </tr>\n    <tr>\n      <th>2</th>\n      <td>2009</td>\n      <td>26</td>\n      <td>83</td>\n      <td>13.1</td>\n      <td>8.08</td>\n      <td>3.59</td>\n      <td>3</td>\n      <td>6</td>\n      <td>22</td>\n    </tr>\n    <tr>\n      <th>3</th>\n      <td>2017</td>\n      <td>25</td>\n      <td>87</td>\n      <td>2.5</td>\n      <td>7.18</td>\n      <td>2.42</td>\n      <td>4</td>\n      <td>6</td>\n      <td>15</td>\n    </tr>\n    <tr>\n      <th>4</th>\n      <td>2014</td>\n      <td>28</td>\n      <td>77</td>\n      <td>0.0</td>\n      <td>14.98</td>\n      <td>4.63</td>\n      <td>5</td>\n      <td>6</td>\n      <td>18</td>\n    </tr>\n    <tr>\n      <th>...</th>\n      <td>...</td>\n      <td>...</td>\n      <td>...</td>\n      <td>...</td>\n      <td>...</td>\n      <td>...</td>\n      <td>...</td>\n      <td>...</td>\n      <td>...</td>\n    </tr>\n    <tr>\n      <th>199</th>\n      <td>2017</td>\n      <td>31</td>\n      <td>67</td>\n      <td>0.0</td>\n      <td>45.15</td>\n      <td>17.89</td>\n      <td>26</td>\n      <td>9</td>\n      <td>15</td>\n    </tr>\n    <tr>\n      <th>200</th>\n      <td>2017</td>\n      <td>29</td>\n      <td>89</td>\n      <td>4.4</td>\n      <td>8.74</td>\n      <td>6.52</td>\n      <td>27</td>\n      <td>9</td>\n      <td>15</td>\n    </tr>\n    <tr>\n      <th>201</th>\n      <td>2009</td>\n      <td>27</td>\n      <td>88</td>\n      <td>0.5</td>\n      <td>8.87</td>\n      <td>3.71</td>\n      <td>28</td>\n      <td>9</td>\n      <td>30</td>\n    </tr>\n    <tr>\n      <th>202</th>\n      <td>2016</td>\n      <td>25</td>\n      <td>56</td>\n      <td>0.1</td>\n      <td>15.54</td>\n      <td>6.10</td>\n      <td>29</td>\n      <td>9</td>\n      <td>20</td>\n    </tr>\n    <tr>\n      <th>203</th>\n      <td>2012</td>\n      <td>24</td>\n      <td>62</td>\n      <td>0.2</td>\n      <td>16.72</td>\n      <td>5.75</td>\n      <td>30</td>\n      <td>9</td>\n      <td>17</td>\n    </tr>\n  </tbody>\n</table>\n<p>204 rows × 9 columns</p>\n</div>"
     },
     "execution_count": 2,
     "metadata": {},
     "output_type": "execute_result"
    }
   ],
   "source": [
    "wildfires = data_functions.read_data_return_dataframe(\"../wildfires.txt\")\n",
    "\n",
    "# Copy to be used for the rest of the assignment\n",
    "wildfires_copy = wildfires.copy()\n",
    "wildfires_copy = data_functions.convert_label(wildfires,\n",
    "                                              'fire',\n",
    "                                              ['no', 'yes'],\n",
    "                                              ['NO','YES'])\n",
    "wildfires_labels = wildfires_copy.copy()['fire']\n",
    "wildfires_copy.drop('fire', axis=1, inplace=True)\n",
    "wildfires_copy"
   ],
   "metadata": {
    "collapsed": false
   }
  },
  {
   "cell_type": "code",
   "execution_count": 3,
   "outputs": [],
   "source": [
    "features = ['year', 'temp', 'humidity', 'rainfall', 'drought_code','buildup_index', 'day', 'month', 'wind_speed']\n",
    "X_train, X_test, y_train, y_test = train_test_split(wildfires_copy, wildfires_labels, test_size=0.3, random_state=42)\n",
    "# X_train  = data_functions.normalise(X_train, features)\n",
    "X_train = X_train[features].values # returns a numpy NdArray of the features\n",
    "X_test = X_test[features].values # returns a numpy NdArray of the features\n",
    "X_train = Normalize(X_train, features)\n",
    "X_test = Normalize(X_test, features)"
   ],
   "metadata": {
    "collapsed": false
   }
  },
  {
   "cell_type": "code",
   "execution_count": 4,
   "outputs": [
    {
     "name": "stdout",
     "output_type": "stream",
     "text": [
      "0.9032258064516129\n"
     ]
    }
   ],
   "source": [
    "\n",
    "\n",
    "perceptron = Perceptron.Perceptron(learning_iterations=225, learning_rate=0.01)\n",
    "perceptron.fit(X_train, y_train)\n",
    "preds = perceptron.predict(X_test)\n",
    "print(accuracy_score(perceptron.convert_label_to_num(y_test), preds))\n",
    "\n"
   ],
   "metadata": {
    "collapsed": false
   }
  },
  {
   "cell_type": "code",
   "execution_count": 5,
   "outputs": [
    {
     "data": {
      "text/plain": "0.8548387096774194"
     },
     "execution_count": 5,
     "metadata": {},
     "output_type": "execute_result"
    }
   ],
   "source": [
    "0.8548387096774194"
   ],
   "metadata": {
    "collapsed": false
   }
  },
  {
   "cell_type": "code",
   "execution_count": 6,
   "outputs": [
    {
     "name": "stdout",
     "output_type": "stream",
     "text": [
      "0.8928571428571429\n"
     ]
    }
   ],
   "source": [
    "print(f1_score(perceptron.convert_label_to_num(y_test),preds))"
   ],
   "metadata": {
    "collapsed": false
   }
  },
  {
   "cell_type": "code",
   "execution_count": 7,
   "outputs": [
    {
     "name": "stdout",
     "output_type": "stream",
     "text": [
      "Best Score:  0.9607843137254902 Best Test Ratio:  0.25\n",
      "F1 Score  0.9545454545454545\n"
     ]
    }
   ],
   "source": [
    "def multi_splits(list_of_test_ratio):\n",
    "    score = 0\n",
    "    ratios = 0\n",
    "    f1 = 0\n",
    "    for ratio in list_of_test_ratio:\n",
    "        features = ['year', 'temp', 'humidity', 'rainfall', 'drought_code', 'buildup_index', 'day', 'month', 'wind_speed']\n",
    "        X_train, X_test, y_train, y_test = train_test_split(wildfires_copy, wildfires_labels, test_size=ratio, random_state=42)\n",
    "        # X_train  = data_functions.normalise(X_train, features)\n",
    "        X_train = X_train[features].values  # returns a numpy NdArray of the features\n",
    "        X_test_v = X_test[features].values  # returns a numpy NdArray of the features\n",
    "        X_train = Normalize(X_train, features)\n",
    "        X_test_v = Normalize(X_test_v, features)\n",
    "\n",
    "        perceptron = Perceptron.Perceptron(learning_iterations=225, learning_rate=0.01)\n",
    "        perceptron.fit(X_train, y_train)\n",
    "        preds = perceptron.predict(X_test_v)\n",
    "        acc = accuracy_score(perceptron.convert_label_to_num(y_test), preds)\n",
    "        if acc > score:\n",
    "            score = acc\n",
    "            ratios = ratio\n",
    "            f1 = f1_score(perceptron.convert_label_to_num(y_test),preds)\n",
    "\n",
    "    print(\"Best Score: \", score, \"Best Test Ratio: \", ratios)\n",
    "    print(\"F1 Score \", f1)\n",
    "\n",
    "multi_splits([0.1, 0.12, 0.14, 0.16, 0.18,0.2,0.25, 0.3, 0.35, 0.4, 0.45, 0.5])"
   ],
   "metadata": {
    "collapsed": false
   }
  },
  {
   "cell_type": "code",
   "execution_count": 8,
   "outputs": [],
   "source": [
    "features = ['year', 'temp', 'humidity', 'rainfall', 'drought_code','buildup_index', 'day', 'month', 'wind_speed']\n",
    "X_train, X_test, y_train, y_test = train_test_split(wildfires_copy, wildfires_labels, test_size=0.3, random_state=42)\n",
    "# X_train  = data_functions.normalise(X_train, features)\n",
    "X_train = X_train[features].values # returns a numpy NdArray of the features\n",
    "X_test = X_test[features].values # returns a numpy NdArray of the features\n",
    "X_train = Normalize(X_train, features)\n",
    "X_test = Normalize(X_test, features)"
   ],
   "metadata": {
    "collapsed": false
   }
  },
  {
   "cell_type": "code",
   "execution_count": 9,
   "outputs": [],
   "source": [
    "from NeuralNetworkManager import NeuralNetwork"
   ],
   "metadata": {
    "collapsed": false
   }
  },
  {
   "cell_type": "code",
   "execution_count": 11,
   "outputs": [
    {
     "name": "stdout",
     "output_type": "stream",
     "text": [
      "None\n"
     ]
    }
   ],
   "source": [
    "perceptron_nn = NeuralNetwork(0.2, 250)\n",
    "perceptron_nn.add(X_train.shape[1], True)\n",
    "perceptron_nn.add(1)\n",
    "perceptron_nn.fit(X_train, y_train)\n",
    "preds = perceptron_nn.predict(X_test)\n",
    "print(preds)\n",
    "# perceptron = Perceptron.Perceptron(learning_iterations=225, learning_rate=0.01)\n",
    "# perceptron.fit(X_train, y_train)\n",
    "# preds = perceptron.predict(X_test)\n",
    "# print(accuracy_score(perceptron.convert_label_to_num(y_test), preds))\n"
   ],
   "metadata": {
    "collapsed": false
   }
  },
  {
   "cell_type": "code",
   "execution_count": 10,
   "outputs": [],
   "source": [],
   "metadata": {
    "collapsed": false
   }
  }
 ],
 "metadata": {
  "kernelspec": {
   "name": "tensorflow",
   "language": "python",
   "display_name": "Python 3.9 (tensorflow)"
  },
  "language_info": {
   "codemirror_mode": {
    "name": "ipython",
    "version": 2
   },
   "file_extension": ".py",
   "mimetype": "text/x-python",
   "name": "python",
   "nbconvert_exporter": "python",
   "pygments_lexer": "ipython2",
   "version": "2.7.6"
  }
 },
 "nbformat": 4,
 "nbformat_minor": 0
}
